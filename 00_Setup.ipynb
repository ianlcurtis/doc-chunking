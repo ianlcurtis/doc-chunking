{
 "cells": [
  {
   "cell_type": "markdown",
   "metadata": {},
   "source": [
    "# Setup\n",
    "In order to execute these notebooks:\n",
    "\n",
    "### In Azure\n",
    "1. Create a Document Intelligence service.\n",
    "2. Create a storage account.\n",
    "    1. Create a container called *data* in the `Container` blade.\n",
    "    2. Create a `Shared access token` for the container by clicking on the newly created container, selecting the `Shared access tokens` blade, adjusting the expiry date, and Clicking the *Generate SAS token and URL* button. \n",
    "    3. Copy the created SAS token for use in the next section.\n",
    "3. Upload some files to chunk into your container by clicking on the newly created container and selecting the `Upload` button in the ribbon.\n",
    "\n",
    "### In credentials.env file\n",
    "1. Update the `FORM_RECOGNIZER_ENDPOINT` and `FORM_RECOGNIZER_KEY` settings, getting the values from the `Keys and Endpoint` blade in the *Document Intelligence* service in the Azure portal.\n",
    "2. Update the `BLOB_ENDPOINT` setting, getting the value from the `Endpoints` blade in the *Storage account* service in the Azure portal.\n",
    "3. Update the `BLOB_SAS` setting, using the value copied when creating a SAS token in the previous section."
   ]
  },
  {
   "cell_type": "markdown",
   "metadata": {},
   "source": [
    "> NOTE: Creating these services may incur Azure usage costs."
   ]
  }
 ],
 "metadata": {
  "language_info": {
   "name": "python"
  }
 },
 "nbformat": 4,
 "nbformat_minor": 2
}
